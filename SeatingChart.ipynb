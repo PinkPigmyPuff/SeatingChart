{
  "nbformat": 4,
  "nbformat_minor": 0,
  "metadata": {
    "colab": {
      "provenance": [],
      "authorship_tag": "ABX9TyPtgFv0mjge7dGmUfUEI+6O",
      "include_colab_link": true
    },
    "kernelspec": {
      "name": "python3",
      "display_name": "Python 3"
    },
    "language_info": {
      "name": "python"
    }
  },
  "cells": [
    {
      "cell_type": "markdown",
      "metadata": {
        "id": "view-in-github",
        "colab_type": "text"
      },
      "source": [
        "<a href=\"https://colab.research.google.com/github/PinkPigmyPuff/SeatingChart/blob/main/SeatingChart.ipynb\" target=\"_parent\"><img src=\"https://colab.research.google.com/assets/colab-badge.svg\" alt=\"Open In Colab\"/></a>"
      ]
    },
    {
      "cell_type": "code",
      "execution_count": 17,
      "metadata": {
        "id": "_SLcHzoL8UBs"
      },
      "outputs": [],
      "source": [
        "import tensorflow as tf\n",
        "import random"
      ]
    },
    {
      "cell_type": "code",
      "source": [
        "# example class of 20 students\n",
        "exampleClass = [\"Liam\", \"Olivia\", \"Noah\", \"Emma\", \"Oliver\", \"Charlotte\", \"Elijah\", \"Amelia\", \"James\", \"Ava\", \"William\", \"Sophia\", \"Benjamin\", \"Isabella\", \"Lucas\", \"Mia\", \"Henry\", \"Evelyn\", \"Theodore\", \"Harper\"]\n",
        "classSize = len(exampleClass)\n",
        "\n",
        "# classroom array, which will be populated by tableNum and peoplePerTable, to represent the layout of the classroom\n",
        "tableNum = 5\n",
        "peoplePerTable = 4\n",
        "\n",
        "# (for random generation of a classroom), the maximum number of students any one student will like/dislike\n",
        "randomLikeMaximum = 4\n",
        "randomDislikeMaximum = 4\n",
        "\n",
        "# happiness of each student, calculated later using 'nextToFriendCost' and 'nextToEnemyCost'\n",
        "nextToFriendCost = 1\n",
        "nextToEnemyCost = -2"
      ],
      "metadata": {
        "id": "3iHN6QLi8jd_"
      },
      "execution_count": 18,
      "outputs": []
    },
    {
      "cell_type": "code",
      "source": [
        "# function to randomly choose who every student likes/dislikes\n",
        "def genClass(studentList, likeMax, dislikeMax):\n",
        "  studentNum = len(studentList)\n",
        "  likes = []\n",
        "  dislikes = []\n",
        "  # for every student, randomly generate how many students they have opionions on, and add an empty array to like/dislike\n",
        "  for i in range(0, classSize):\n",
        "    likes.append([])\n",
        "    dislikes.append([])\n",
        "    likeNum = random.randint(0, likeMax)\n",
        "    dislikeNum = random.randint(0, dislikeMax)\n",
        "    dupelist = studentList.copy()\n",
        "    \n",
        "    # choose random students that the current student likes\n",
        "    for j in range(0, likeNum):\n",
        "      randomStudent = random.randrange(0, len(dupelist))\n",
        "      likes[i].append(dupelist[randomStudent])\n",
        "      dupelist.pop(randomStudent)\n",
        "\n",
        "    # choose random students that the current student dislikes\n",
        "    for j in range(0, dislikeNum):\n",
        "      randomStudent = random.randrange(0, len(dupelist))\n",
        "      dislikes[i].append(dupelist[randomStudent])\n",
        "      dupelist.pop(randomStudent)\n",
        "\n",
        "  return likes, dislikes\n"
      ],
      "metadata": {
        "id": "uphiE_Qw9vFQ"
      },
      "execution_count": 19,
      "outputs": []
    },
    {
      "cell_type": "code",
      "source": [
        "# function to populate the classroom array based on the number of tables, and the number of students per table\n",
        "def createClassroom(tableNumber, studentsPerTable):\n",
        "  classroom = []\n",
        "  for table in range(0, tableNumber):\n",
        "    classroom.append([])\n",
        "    for student in range(0, studentsPerTable):\n",
        "      classroom[table].append([])\n",
        "  return classroom"
      ],
      "metadata": {
        "id": "icW7-8409zXT"
      },
      "execution_count": 20,
      "outputs": []
    },
    {
      "cell_type": "code",
      "source": [
        "# randomly assign students to seats in the classroom\n",
        "def randomlyFillClass(classroom, studentList):\n",
        "  dupelist = studentList.copy()\n",
        "  for table in range(0, tableNum):\n",
        "    for student in range(0, peoplePerTable):\n",
        "      randomStudent = random.randrange(0, len(dupelist))\n",
        "      classroom[table][student] = dupelist[randomStudent]\n",
        "      dupelist.pop(randomStudent)\n",
        "  return classroom"
      ],
      "metadata": {
        "id": "zlJ5m0-wC37e"
      },
      "execution_count": 21,
      "outputs": []
    },
    {
      "cell_type": "code",
      "source": [
        "# determine the cost of the given classroom\n",
        "def cost(studentList, classroom, likes, dislikes):\n",
        "  peopleHappiness = [0] * classSize\n",
        "\n",
        "  # for every student\n",
        "  for student in range(0, len(studentList)):\n",
        "    currentStudent = studentList[student]\n",
        "    studentsTable = 0\n",
        "    if any(currentStudent in (match := nested_list) for nested_list in classroom):\n",
        "      studentsTable = classroom.index(match)\n",
        "      # print(f\"current student is {currentStudent}, and they sit at table {studentsTable}\")\n",
        "\n",
        "    # determine the happiness of the currentStudent, based on each person at their table\n",
        "    for tableMate in range(0, peoplePerTable):\n",
        "      currentTableMate = classroom[studentsTable][tableMate]\n",
        "      if currentTableMate in likes[student]:\n",
        "        peopleHappiness[student] += nextToFriendCost\n",
        "      elif currentTableMate in dislikes[student]:\n",
        "        peopleHappiness[student] += nextToEnemyCost\n",
        "  return peopleHappiness"
      ],
      "metadata": {
        "id": "GvJNG2_gE6PD"
      },
      "execution_count": 22,
      "outputs": []
    },
    {
      "cell_type": "code",
      "source": [
        "def average(lst):\n",
        "  return float(sum(lst) / len(lst))"
      ],
      "metadata": {
        "id": "wCB_IF4KYDLX"
      },
      "execution_count": 23,
      "outputs": []
    },
    {
      "cell_type": "code",
      "source": [
        "likes, dislikes = genClass(exampleClass, randomLikeMaximum, randomDislikeMaximum)\n",
        "emptyClassroom = createClassroom(tableNum, peoplePerTable)\n",
        "classroom = randomlyFillClass(emptyClassroom, exampleClass)\n",
        "happiness = cost(exampleClass, classroom, likes, dislikes)\n",
        "avgHappiness = average(happiness)\n",
        "\n",
        "print(f\"Likes: {likes}\")\n",
        "print(f\"Dislikes: {dislikes}\")\n",
        "print(f\"Classroom: {classroom}\")\n",
        "print(f\"Happiness list: {happiness}\")\n",
        "print(f\"Average happiness: {avgHappiness}\")\n"
      ],
      "metadata": {
        "colab": {
          "base_uri": "https://localhost:8080/"
        },
        "id": "NwgVPcMO94rs",
        "outputId": "41c87c23-d3ab-489d-eb76-94d3c3c6a28a"
      },
      "execution_count": 24,
      "outputs": [
        {
          "output_type": "stream",
          "name": "stdout",
          "text": [
            "Like: [['Liam', 'James'], ['Olivia'], ['Noah', 'Liam', 'Theodore', 'Charlotte'], [], [], ['Olivia', 'Charlotte', 'Emma'], ['Ava', 'William'], ['Evelyn', 'Oliver', 'Benjamin', 'Ava'], ['Evelyn', 'Charlotte'], ['Isabella', 'Harper', 'William'], ['James', 'Noah', 'Emma', 'Henry'], ['Sophia', 'Isabella', 'Benjamin'], [], ['Liam', 'James', 'Elijah', 'Isabella'], ['Emma', 'Charlotte'], ['James', 'Charlotte', 'Liam'], ['Evelyn', 'Oliver', 'Amelia'], ['Sophia', 'Amelia', 'Lucas'], ['Olivia', 'Liam', 'Charlotte', 'Benjamin'], []]\n",
            "Dislike: [[], ['Noah', 'Oliver', 'Evelyn'], ['Harper', 'Amelia', 'Emma', 'James'], ['Noah', 'Mia'], ['Oliver', 'Noah', 'Sophia', 'Olivia'], ['William', 'Theodore'], [], ['Emma', 'Isabella', 'Liam', 'Lucas'], ['Isabella', 'Henry', 'Harper'], ['Lucas', 'James'], ['Elijah', 'Benjamin', 'Sophia', 'Liam'], ['Harper', 'James'], ['Amelia', 'Emma'], ['Henry', 'Oliver'], ['Isabella', 'William', 'Mia'], ['Evelyn', 'Noah', 'Theodore', 'Olivia'], [], ['Emma'], [], ['Ava']]\n",
            "Classroom: [['Charlotte', 'James', 'Elijah', 'Emma'], ['Evelyn', 'Liam', 'Sophia', 'Oliver'], ['Theodore', 'Noah', 'Amelia', 'Mia'], ['Ava', 'Olivia', 'Benjamin', 'Lucas'], ['William', 'Henry', 'Harper', 'Isabella']]\n",
            "Happiness list: [1, 1, 0, 0, -4, 2, 0, 0, 1, -2, 1, 1, 0, -1, 0, -4, 0, 1, 0, 0]\n",
            "Average happiness: -0.15\n"
          ]
        }
      ]
    },
    {
      "cell_type": "markdown",
      "source": [
        "Ok, so now I need to brainstorm how to implement a neural network.\n",
        "\n",
        "Inputs:\n",
        "- list of students\n",
        "- list of student likes/dislikes\n",
        "- classroom layout\n",
        "\n",
        "Outputs\n",
        "- populated classroom"
      ],
      "metadata": {
        "id": "1mQqmDflZqao"
      }
    }
  ]
}