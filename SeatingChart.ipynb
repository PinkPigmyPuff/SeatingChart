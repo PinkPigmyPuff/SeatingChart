{
  "nbformat": 4,
  "nbformat_minor": 0,
  "metadata": {
    "colab": {
      "provenance": [],
      "authorship_tag": "ABX9TyNCNcouZnlBjSFodYJPhZYo",
      "include_colab_link": true
    },
    "kernelspec": {
      "name": "python3",
      "display_name": "Python 3"
    },
    "language_info": {
      "name": "python"
    }
  },
  "cells": [
    {
      "cell_type": "markdown",
      "metadata": {
        "id": "view-in-github",
        "colab_type": "text"
      },
      "source": [
        "<a href=\"https://colab.research.google.com/github/PinkPigmyPuff/SeatingChart/blob/main/SeatingChart.ipynb\" target=\"_parent\"><img src=\"https://colab.research.google.com/assets/colab-badge.svg\" alt=\"Open In Colab\"/></a>"
      ]
    },
    {
      "cell_type": "code",
      "execution_count": 263,
      "metadata": {
        "colab": {
          "base_uri": "https://localhost:8080/"
        },
        "id": "_SLcHzoL8UBs",
        "outputId": "222fc7a4-51fa-4f3d-ba71-515949b84caf"
      },
      "outputs": [
        {
          "output_type": "stream",
          "name": "stdout",
          "text": [
            "TensorFlow version: 2.9.2\n"
          ]
        }
      ],
      "source": [
        "import tensorflow as tf\n",
        "import random\n",
        "print(\"TensorFlow version:\", tf.__version__)\n"
      ]
    },
    {
      "cell_type": "code",
      "source": [
        "# example class of 20 students\n",
        "people = [\"Liam\",\"Olivia\", \"Noah\", \"Emma\", \"Oliver\", \"Charlotte\", \"Elijah\", \"Amelia\", \"James\", \"Ava\", \"William\", \"Sophia\", \"Benjamin\", \"Isabella\", \"Lucas\", \"Mia\", \"Henry\", \"Evelyn\", \"Theodore\", \"Harper\"]\n",
        "classSize = len(people)\n",
        "\n",
        "# global arrays of student opinions. Tied to the 'people' array by index\n",
        "like = []\n",
        "dislike = []\n",
        "\n",
        "classroom = []\n",
        "tableNum = 5\n",
        "peoplePerTable = 4\n",
        "\n",
        "peopleHappiness = [0] * classSize\n",
        "nextToFriendCost = 1\n",
        "nextToEnemyCost = -2"
      ],
      "metadata": {
        "id": "3iHN6QLi8jd_"
      },
      "execution_count": 264,
      "outputs": []
    },
    {
      "cell_type": "code",
      "source": [
        "def genClass():\n",
        "  print('people: ' + str(people))\n",
        "\n",
        "  # for every student, randomly generate how many students they have opionions on, and add an empty array to like/dislike\n",
        "  for i in range(0, classSize):\n",
        "    # print('current student' + str(people[i]))\n",
        "    likeNum = random.randint(0, 5)\n",
        "    dislikeNum = random.randint(0, 5)\n",
        "    like.append([])\n",
        "    dislike.append([])\n",
        "    dupelist = people.copy()\n",
        "    \n",
        "    # for every person the student has an opionion on, \n",
        "    for j in range(0, likeNum):\n",
        "      likes = random.randrange(0, len(dupelist))\n",
        "      # print('this student wants to sit with: ' + str(dupelist[likes]))\n",
        "      like[i].append(dupelist[likes])\n",
        "      dupelist.pop(likes)\n",
        "      # print('like array: ' + str(like))\n",
        "      # print('duplelist' + str(dupelist))\n",
        "\n",
        "    for j in range(0, dislikeNum):\n",
        "      dislikes = random.randrange(0, len(dupelist))\n",
        "      dislike[i].append(dupelist[dislikes])\n",
        "      dupelist.pop(dislikes)\n",
        "      \n",
        "  print('\\nLike: ' + str(like))\n",
        "  print('Dislike: ' + str(dislike))\n"
      ],
      "metadata": {
        "id": "uphiE_Qw9vFQ"
      },
      "execution_count": 265,
      "outputs": []
    },
    {
      "cell_type": "code",
      "source": [
        "def createClassroom():\n",
        "  for table in range(0, tableNum):\n",
        "    classroom.append([])\n",
        "    for person in range(0, peoplePerTable):\n",
        "      classroom[table].append([])\n",
        "  print(f\"\\nempty classroom: {classroom}\")"
      ],
      "metadata": {
        "id": "icW7-8409zXT"
      },
      "execution_count": 266,
      "outputs": []
    },
    {
      "cell_type": "code",
      "source": [
        "def randomlyFillClass():\n",
        "  createClassroom()\n",
        "  dupelist = people.copy()\n",
        "  for table in range(0, tableNum):\n",
        "    for person in range(0, peoplePerTable):\n",
        "      randomStudent = random.randrange(0, len(dupelist))\n",
        "      classroom[table][person] = dupelist[randomStudent]\n",
        "      dupelist.pop(randomStudent)\n",
        "  print(f\"randomly filled classroom {classroom}\")"
      ],
      "metadata": {
        "id": "zlJ5m0-wC37e"
      },
      "execution_count": 267,
      "outputs": []
    },
    {
      "cell_type": "code",
      "source": [
        "def getInfoOnStudent(studentIndex):\n",
        "  student = people[studentIndex]\n",
        "  "
      ],
      "metadata": {
        "id": "J4F13DbtX1cd"
      },
      "execution_count": 268,
      "outputs": []
    },
    {
      "cell_type": "code",
      "source": [
        "def cost():\n",
        "  # for every student\n",
        "  for person in range(0, classSize):\n",
        "    currentStudent = people[person]\n",
        "    studentsTable = 0\n",
        "    if any(currentStudent in (match := nested_list) for nested_list in classroom):\n",
        "      studentsTable = classroom.index(match)\n",
        "      # print(f\"current student is {currentStudent}, and they sit at table {studentsTable}\")\n",
        "    # determine the happiness of the currentStudent, based on each person at their table\n",
        "    for tableMate in range(0, peoplePerTable):\n",
        "      currentTableMate = classroom[studentsTable][tableMate]\n",
        "      if currentTableMate in like[person]:\n",
        "        peopleHappiness[person] += nextToFriendCost\n",
        "      elif currentTableMate in dislike[person]:\n",
        "        peopleHappiness[person] += nextToEnemyCost\n",
        "  print(f\"peopleHappiness {peopleHappiness}\")\n"
      ],
      "metadata": {
        "id": "GvJNG2_gE6PD"
      },
      "execution_count": 269,
      "outputs": []
    },
    {
      "cell_type": "code",
      "source": [
        "def average(lst):\n",
        "  return float(sum(lst) / len(lst))"
      ],
      "metadata": {
        "id": "wCB_IF4KYDLX"
      },
      "execution_count": 270,
      "outputs": []
    },
    {
      "cell_type": "code",
      "source": [
        "genClass()\n",
        "randomlyFillClass()\n",
        "cost()\n",
        "print(average(peopleHappiness))"
      ],
      "metadata": {
        "colab": {
          "base_uri": "https://localhost:8080/"
        },
        "id": "NwgVPcMO94rs",
        "outputId": "0078bd65-8dd2-406f-bb52-59fa9faec99d"
      },
      "execution_count": 271,
      "outputs": [
        {
          "output_type": "stream",
          "name": "stdout",
          "text": [
            "people: ['Liam', 'Olivia', 'Noah', 'Emma', 'Oliver', 'Charlotte', 'Elijah', 'Amelia', 'James', 'Ava', 'William', 'Sophia', 'Benjamin', 'Isabella', 'Lucas', 'Mia', 'Henry', 'Evelyn', 'Theodore', 'Harper']\n",
            "\n",
            "Like: [['William', 'Lucas', 'Emma', 'Ava'], ['Noah', 'Ava', 'Isabella'], ['Emma', 'Henry', 'Sophia', 'Harper'], [], ['Harper', 'Isabella', 'James', 'Evelyn'], ['Henry'], ['Harper'], ['Oliver', 'William'], ['Lucas', 'Charlotte'], ['Sophia', 'Isabella', 'Lucas'], ['Evelyn', 'Theodore', 'Harper', 'Emma'], ['Evelyn', 'Harper', 'Benjamin'], ['Ava', 'Isabella', 'Emma'], ['Sophia', 'Mia', 'Olivia', 'Evelyn', 'Theodore'], ['Ava', 'Elijah'], ['Liam', 'Ava'], ['Elijah', 'Ava', 'Emma', 'Harper', 'Noah'], ['William'], ['Evelyn', 'James', 'Benjamin', 'Theodore'], ['Theodore', 'Isabella', 'Harper', 'William', 'Emma']]\n",
            "Dislike: [['Sophia', 'Benjamin'], ['Benjamin', 'Olivia', 'Lucas'], [], ['Evelyn', 'Olivia', 'Amelia', 'Oliver', 'Isabella'], ['Ava', 'Liam', 'Noah', 'Amelia', 'Sophia'], ['Amelia'], ['Lucas', 'Amelia'], ['Emma', 'Benjamin', 'Charlotte'], ['Ava'], ['Harper', 'Liam', 'Evelyn', 'Amelia', 'James'], ['Oliver', 'Henry'], [], ['Benjamin', 'Charlotte', 'Harper', 'Theodore'], ['Lucas'], ['Evelyn', 'Charlotte', 'Liam'], ['Henry', 'Emma', 'Lucas'], [], ['James', 'Ava'], ['Liam'], ['Oliver', 'Noah']]\n",
            "\n",
            "empty classroom: [[[], [], [], []], [[], [], [], []], [[], [], [], []], [[], [], [], []], [[], [], [], []]]\n",
            "randomly filled classroom [['Noah', 'Benjamin', 'James', 'Theodore'], ['Liam', 'Charlotte', 'Mia', 'Emma'], ['Ava', 'Elijah', 'Olivia', 'Isabella'], ['Sophia', 'Oliver', 'Harper', 'Lucas'], ['William', 'Amelia', 'Henry', 'Evelyn']]\n",
            "peopleHappiness [1, 0, 0, 0, -1, 0, 0, 1, 0, 1, -1, 1, -4, 1, 0, -1, 0, 1, 3, -1]\n",
            "0.05\n"
          ]
        }
      ]
    }
  ]
}